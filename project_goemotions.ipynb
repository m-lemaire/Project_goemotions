{
 "cells": [
  {
   "attachments": {},
   "cell_type": "markdown",
   "metadata": {},
   "source": [
    "Manon LEMAIRE - 12/2022"
   ]
  },
  {
   "attachments": {},
   "cell_type": "markdown",
   "metadata": {},
   "source": [
    "# **FINAL PROJECT MACHINE LEARNING**\n",
    "\n",
    "## Text classification: goemotions \n",
    "--> Guess the sentiment(s) of the given text passage, among 28 possible labels"
   ]
  },
  {
   "attachments": {},
   "cell_type": "markdown",
   "metadata": {},
   "source": [
    "# **Importing libraries**"
   ]
  },
  {
   "cell_type": "code",
   "execution_count": null,
   "metadata": {},
   "outputs": [],
   "source": [
    "import pandas as pd\n",
    "import numpy as np\n",
    "import nltk\n",
    "import string\n",
    "from nltk.stem import WordNetLemmatizer\n",
    "from tqdm.auto import tqdm"
   ]
  },
  {
   "attachments": {},
   "cell_type": "markdown",
   "metadata": {},
   "source": [
    "# **Downloading Data**"
   ]
  },
  {
   "cell_type": "code",
   "execution_count": null,
   "metadata": {},
   "outputs": [],
   "source": [
    "train = !wget -P data/full_dataset/ https://storage.googleapis.com/gresearch/goemotions/data/full_dataset/goemotions_1.csv\n",
    "test = !wget -P data/full_dataset/ https://storage.googleapis.com/gresearch/goemotions/data/full_dataset/goemotions_2.csv\n",
    "evaluate = !wget -P data/full_dataset/ https://storage.googleapis.com/gresearch/goemotions/data/full_dataset/goemotions_3.csv"
   ]
  },
  {
   "cell_type": "code",
   "execution_count": null,
   "metadata": {},
   "outputs": [],
   "source": [
    "train = pd.read_csv(\"https://storage.googleapis.com/gresearch/goemotions/data/full_dataset/goemotions_1.csv\")\n",
    "test = pd.read_csv(\"https://storage.googleapis.com/gresearch/goemotions/data/full_dataset/goemotions_2.csv\")\n",
    "evaluate = pd.read_csv(\"https://storage.googleapis.com/gresearch/goemotions/data/full_dataset/goemotions_3.csv\")"
   ]
  },
  {
   "attachments": {},
   "cell_type": "markdown",
   "metadata": {},
   "source": [
    "# **Dropping unnecessary columns**"
   ]
  },
  {
   "cell_type": "code",
   "execution_count": null,
   "metadata": {},
   "outputs": [],
   "source": [
    "train = train.drop(['id','author','subreddit', 'link_id', 'parent_id', 'created_utc','rater_id','example_very_unclear'], axis = 1)\n",
    "test =test.drop(['id','author','subreddit', 'link_id', 'parent_id', 'created_utc','rater_id','example_very_unclear'], axis = 1)\n",
    "evaluate =evaluate.drop(['id','author','subreddit', 'link_id', 'parent_id', 'created_utc','rater_id','example_very_unclear'], axis = 1)"
   ]
  },
  {
   "cell_type": "code",
   "execution_count": null,
   "metadata": {},
   "outputs": [],
   "source": [
    "train.head()"
   ]
  },
  {
   "attachments": {},
   "cell_type": "markdown",
   "metadata": {},
   "source": [
    "# **Preprocessing**\n"
   ]
  },
  {
   "cell_type": "code",
   "execution_count": null,
   "metadata": {},
   "outputs": [],
   "source": [
    "nltk.download('stopwords')\n",
    "nltk.download('punkt')\n",
    "nltk.download('words')\n",
    "nltk.download('wordnet')\n",
    "nltk.download('omw-1.4')"
   ]
  },
  {
   "cell_type": "code",
   "execution_count": null,
   "metadata": {},
   "outputs": [],
   "source": [
    "stopwords = nltk.corpus.stopwords.words('english')\n",
    "words = set(nltk.corpus.words.words())\n",
    "lemmatizer = WordNetLemmatizer()\n",
    "\n",
    "def preprocess(sentence):\n",
    "  sentence = nltk.tokenize.word_tokenize(sentence) # tokenizing\n",
    "  sentence = [i.lower() for i in sentence if i not in string.punctuation] # removing punctuation\n",
    "  sentence = [i for i in sentence if not i.isdigit()] # removing numbers\n",
    "  sentence = [i for i in sentence if i not in stopwords] # removing stopwords\n",
    "  sentence = (lemmatizer.lemmatize(w) for w in sentence) # lemmatizing \n",
    "  sentence_clean = ' '.join(w for w in sentence if w.lower() in words or not w.isalpha()) # joining the tokens\n",
    "\n",
    "  return sentence_clean"
   ]
  },
  {
   "cell_type": "code",
   "execution_count": null,
   "metadata": {},
   "outputs": [],
   "source": [
    "before = train['text'][:3]\n",
    "after = train['text'][:3].apply(preprocess)\n",
    "print(f'Before: {before.values}\\n\\nAfter: {after} ')"
   ]
  },
  {
   "cell_type": "code",
   "execution_count": null,
   "metadata": {},
   "outputs": [],
   "source": [
    "tqdm.pandas() # adding a loading bar on the apply process\n",
    "train['text'] = train.text.progress_apply(preprocess)\n",
    "test['text'] = test.text.progress_apply(preprocess)"
   ]
  },
  {
   "cell_type": "code",
   "execution_count": null,
   "metadata": {},
   "outputs": [],
   "source": [
    "labels = train.drop(['text'], axis = 1).values\n",
    "labels_test = test.drop(['text'], axis = 1).values\n",
    "print(labels.shape, labels_test.shape)"
   ]
  }
 ],
 "metadata": {
  "kernelspec": {
   "display_name": "Python 3",
   "language": "python",
   "name": "python3"
  },
  "language_info": {
   "name": "python",
   "version": "3.9.13 (tags/v3.9.13:6de2ca5, May 17 2022, 16:36:42) [MSC v.1929 64 bit (AMD64)]"
  },
  "orig_nbformat": 4,
  "vscode": {
   "interpreter": {
    "hash": "ddd0ad3d97be2ee7139098ad0621201c6cf8cada9f3048be6a9b1b3f7a1c7bc0"
   }
  }
 },
 "nbformat": 4,
 "nbformat_minor": 2
}
